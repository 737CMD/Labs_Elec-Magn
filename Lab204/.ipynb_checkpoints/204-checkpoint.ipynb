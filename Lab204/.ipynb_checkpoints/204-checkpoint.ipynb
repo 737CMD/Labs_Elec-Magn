{
 "cells": [
  {
   "cell_type": "code",
   "execution_count": 2,
   "id": "b7c53199-cb89-42e6-9a8c-7a57e299651d",
   "metadata": {},
   "outputs": [],
   "source": [
    "import numpy as np\n",
    "r1 = 11000\n",
    "r2 = 22000\n",
    "c = 4 * 10**(-6)\n",
    "d = 0.025\n",
    "w1 = 150\n",
    "w2 = 300\n",
    "dc = 0.0007\n",
    "c0 = 10**(-7)\n",
    "sc = 35*10*10**(-6)"
   ]
  },
  {
   "cell_type": "code",
   "execution_count": 3,
   "id": "2888b0a0-bc48-4855-b8fe-8391116f98d0",
   "metadata": {},
   "outputs": [
    {
     "name": "stdout",
     "output_type": "stream",
     "text": [
      "[[1.74 1.74 1.74 1.74 1.74 1.74 0.87 0.87 0.87 0.35]\n",
      " [3.47 3.47 3.47 3.47 3.47 3.47 1.74 1.74 1.74 0.69]\n",
      " [5.21 5.21 5.21 5.21 5.21 5.21 2.6  2.6  2.6  1.04]\n",
      " [6.94 6.94 6.94 6.94 6.94 6.94 3.47 3.47 3.47 1.39]] A/m\n",
      "[[2.99 2.99 2.99 2.99 2.99 2.99 2.99 2.99 2.99 1.2 ]\n",
      " [5.98 5.98 5.98 5.98 5.98 5.98 5.98 5.98 5.98 2.39]\n",
      " [8.96 8.96 8.96 8.96 8.96 8.96 8.96 8.96 8.96 3.59]] мТл\n",
      "[ 28571.43  57142.86  85714.29 114285.71] В/м\n",
      "[[0.57 0.57 0.57 1.43]\n",
      " [1.14 1.14 1.14 2.86]\n",
      " [1.71 1.71 1.71 4.29]] мКл/м^2\n"
     ]
    }
   ],
   "source": [
    "Uxm = np.array([10,10,10,10,10,10, 5,5,5, 2])\n",
    "Uym = np.array([5,5,5,5,5,5,5,5,5,2])\n",
    "H = Uxm/r1/np.pi/d*w1\n",
    "B = Uym/w2/np.pi/d**2*4*r2*c\n",
    "Uxe = 20\n",
    "Uye = np.array([2,2,2,5])\n",
    "E = Uxe/dc\n",
    "D = Uye/sc*c0\n",
    "Ecorr = np.array([E, E*2, E*3, E*4])\n",
    "Dcorr = np.array([D, D*2, D*3])\n",
    "Hcorr = np.array([H, H*2, H*3, H*4])\n",
    "Bcorr = np.array([B, B*2, B*3])\n",
    "print(np.round(Hcorr, 2), \"A/m\")\n",
    "print(np.round(Bcorr, 2), \"мТл\")\n",
    "print(np.round(Ecorr, 2), \"В/м\")\n",
    "print(np.round(Dcorr*10**3, 2), \"мКл/м^2\")"
   ]
  },
  {
   "cell_type": "code",
   "execution_count": 30,
   "id": "9f080206-6eaa-4ff0-a7c3-6f5328a6bfac",
   "metadata": {},
   "outputs": [
    {
     "name": "stdout",
     "output_type": "stream",
     "text": [
      "32.6530612244898\n",
      "54.99462943071966\n",
      "42.70015698587128\n",
      "53.06122448979592\n",
      "Теплота, мДж 108.51\n",
      "Теплота, мДж 156.37\n",
      "Теплота, мДж 175.95\n",
      "Теплота, мДж 169.20\n",
      "Теплота, мДж 131.85\n",
      "Теплота, мДж 108.08\n",
      "Теплота, мДж 65.71\n",
      "Теплота, мДж 60.09\n",
      "Теплота, мДж 40.76\n",
      "Теплота, мДж 7.19\n",
      "Теплота, мДж 32653.06\n",
      "Теплота, мДж 54994.63\n",
      "Теплота, мДж 42700.16\n",
      "Теплота, мДж 53061.22\n",
      "20.916666666666668\n",
      "30.142857142857146\n",
      "33.91666666666667\n",
      "32.61538461538461\n",
      "25.416666666666668\n",
      "20.833333333333336\n",
      "25.333333333333332\n",
      "23.166666666666668\n",
      "15.714285714285715\n",
      "17.333333333333336\n",
      "2.0\n",
      "3.368421052631579\n",
      "2.6153846153846154\n",
      "1.3\n"
     ]
    }
   ],
   "source": [
    "s = np.array([[25.1, 1.2], [42.2, 1.4], [40.7, 1.2], [42.4, 1.3], [30.5, 1.2], [25, 1.2], [38, 1.5], [27.8, 1.2], [22, 1.4], [20.8, 1.2], [2.6, 1.3], [6.4, 1.9], [3.4, 1.3], [3.9, 3]])\n",
    "scorr = np.array([])\n",
    "for i in range(0,10):\n",
    "    a = s[i][0]/s[i][1]*H[i]*B[i]*10**(-3)\n",
    "    scorr = np.append(scorr, a)\n",
    "for i in range(0, 4):\n",
    "    a = s[i+10][0]/s[i+10][1]*E*D[i]\n",
    "    print(a)\n",
    "    scorr = np.append(scorr, a)\n",
    "for i in scorr:\n",
    "    print(f\"Теплота, мДж {i*1000:.2f}\")\n",
    "for i in s:\n",
    "    print(i[0]/i[1])"
   ]
  },
  {
   "cell_type": "code",
   "execution_count": 13,
   "id": "0abc1ffc-e5cb-4ed8-a122-abcc8758451d",
   "metadata": {},
   "outputs": [
    {
     "name": "stdout",
     "output_type": "stream",
     "text": [
      "[1.12  0.017]\n",
      "[1.32 0.06]\n"
     ]
    }
   ],
   "source": [
    "Hc = np.array([3.2, 0.05])*0.35\n",
    "Bn = np.array([1.1, 0.05])*1.2\n",
    "print(np.round(Hc,3))\n",
    "print(np.round(Bn,2))"
   ]
  },
  {
   "cell_type": "code",
   "execution_count": 24,
   "id": "ef330f13-f41a-4a7e-9416-a920b0015951",
   "metadata": {},
   "outputs": [
    {
     "name": "stdout",
     "output_type": "stream",
     "text": [
      "[2.1 4.3 5.  5.7 0.7]\n",
      "[5.14 4.86 4.71 3.43 0.07]\n"
     ]
    }
   ],
   "source": [
    "Ec = np.array([0.15, 0.3, 0.35, 0.4, 0.05])/2*E\n",
    "Dn = np.array([3.6, 3.4, 3.3, 2.4, 0.05])*D[0]*5/2\n",
    "print(np.round(Ec/1000,1))\n",
    "print(np.round(Dn*1000,2))"
   ]
  },
  {
   "cell_type": "code",
   "execution_count": null,
   "id": "eee30d7e-47bb-443c-b224-62eb7822734d",
   "metadata": {},
   "outputs": [],
   "source": []
  },
  {
   "cell_type": "code",
   "execution_count": null,
   "id": "9a4d3595-b1ef-47e9-aa37-e63e8d464ce2",
   "metadata": {},
   "outputs": [],
   "source": []
  }
 ],
 "metadata": {
  "kernelspec": {
   "display_name": "Python 3 (ipykernel)",
   "language": "python",
   "name": "python3"
  },
  "language_info": {
   "codemirror_mode": {
    "name": "ipython",
    "version": 3
   },
   "file_extension": ".py",
   "mimetype": "text/x-python",
   "name": "python",
   "nbconvert_exporter": "python",
   "pygments_lexer": "ipython3",
   "version": "3.9.12"
  }
 },
 "nbformat": 4,
 "nbformat_minor": 5
}
